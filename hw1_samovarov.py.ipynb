{
 "cells": [
  {
   "cell_type": "markdown",
   "id": "d55a9515",
   "metadata": {},
   "source": [
    "У додатку ви знайдете файл nyt.png, що містить візуалізацію від видання The New York Times. Ваше завдання - відтворити цю візуалізацію максимально близько до оригіналу.\n",
    "https://www.nytimes.com/interactive/2018/01/18/climate/hottest-year-2017.html\n",
    "Ви можете використовувати будь-який доступний вам інструмент.\n",
    "\n",
    "Якщо ви використовуєте код, я очікую від вас посилання на GitHub репозиторій із картинкою та кодом. Якщо ви використовуєте щось на зразок Tableau або Power BI, я очікую від вас посилання на опубліковану візуалізацію. \n",
    "\n",
    "Зверніть увагу, що у візуалізації The New York Times дані наводяться у градусах Цельсія, але в даних у csv файлі - ні. Не варто на цьому етапі переводити одну розмірність в іншу, просто відтворіть структуру візуалізації на основі цих даних. Також зверніть увагу, що вам потрібно буде трохи трансформувати дані (в Pandas це можна зробити за допомогою методів wide to long або melt)\n",
    "\n",
    "![alt](predicted.png \"Image\")"
   ]
  },
  {
   "cell_type": "markdown",
   "id": "c65d6215",
   "metadata": {},
   "source": []
  },
  {
   "cell_type": "code",
   "execution_count": 161,
   "id": "a79cc1eb",
   "metadata": {},
   "outputs": [
    {
     "name": "stdout",
     "output_type": "stream",
     "text": [
      "Requirement already satisfied: pandas in /Users/mykyta/aastudy/visual/venv/lib/python3.8/site-packages (1.3.3)\n",
      "Requirement already satisfied: altair in /Users/mykyta/aastudy/visual/venv/lib/python3.8/site-packages (4.1.0)\n",
      "Requirement already satisfied: numpy>=1.17.3 in /Users/mykyta/aastudy/visual/venv/lib/python3.8/site-packages (from pandas) (1.21.2)\n",
      "Requirement already satisfied: pytz>=2017.3 in /Users/mykyta/aastudy/visual/venv/lib/python3.8/site-packages (from pandas) (2021.3)\n",
      "Requirement already satisfied: python-dateutil>=2.7.3 in /Users/mykyta/aastudy/visual/venv/lib/python3.8/site-packages (from pandas) (2.8.2)\n",
      "Requirement already satisfied: entrypoints in /Users/mykyta/aastudy/visual/venv/lib/python3.8/site-packages (from altair) (0.3)\n",
      "Requirement already satisfied: jinja2 in /Users/mykyta/aastudy/visual/venv/lib/python3.8/site-packages (from altair) (3.0.2)\n",
      "Requirement already satisfied: toolz in /Users/mykyta/aastudy/visual/venv/lib/python3.8/site-packages (from altair) (0.11.1)\n",
      "Requirement already satisfied: jsonschema in /Users/mykyta/aastudy/visual/venv/lib/python3.8/site-packages (from altair) (4.0.1)\n",
      "Requirement already satisfied: six>=1.5 in /Users/mykyta/aastudy/visual/venv/lib/python3.8/site-packages (from python-dateutil>=2.7.3->pandas) (1.16.0)\n",
      "Requirement already satisfied: MarkupSafe>=2.0 in /Users/mykyta/aastudy/visual/venv/lib/python3.8/site-packages (from jinja2->altair) (2.0.1)\n",
      "Requirement already satisfied: attrs>=17.4.0 in /Users/mykyta/aastudy/visual/venv/lib/python3.8/site-packages (from jsonschema->altair) (21.2.0)\n",
      "Requirement already satisfied: pyrsistent!=0.17.0,!=0.17.1,!=0.17.2,>=0.14.0 in /Users/mykyta/aastudy/visual/venv/lib/python3.8/site-packages (from jsonschema->altair) (0.18.0)\n"
     ]
    }
   ],
   "source": [
    "import sys\n",
    "!{sys.executable} -m pip install pandas altair"
   ]
  },
  {
   "cell_type": "code",
   "execution_count": 162,
   "id": "5a079a25",
   "metadata": {},
   "outputs": [
    {
     "data": {
      "text/plain": [
       "ThemeRegistry.enable('fivethirtyeight')"
      ]
     },
     "execution_count": 162,
     "metadata": {},
     "output_type": "execute_result"
    }
   ],
   "source": [
    "import pandas as pd\n",
    "import altair as alt\n",
    "\n",
    "# setting needed theme\n",
    "alt.themes.enable(\"fivethirtyeight\")"
   ]
  },
  {
   "cell_type": "code",
   "execution_count": 163,
   "id": "18755c9b",
   "metadata": {},
   "outputs": [
    {
     "data": {
      "text/html": [
       "<div>\n",
       "<style scoped>\n",
       "    .dataframe tbody tr th:only-of-type {\n",
       "        vertical-align: middle;\n",
       "    }\n",
       "\n",
       "    .dataframe tbody tr th {\n",
       "        vertical-align: top;\n",
       "    }\n",
       "\n",
       "    .dataframe thead th {\n",
       "        text-align: right;\n",
       "    }\n",
       "</style>\n",
       "<table border=\"1\" class=\"dataframe\">\n",
       "  <thead>\n",
       "    <tr style=\"text-align: right;\">\n",
       "      <th></th>\n",
       "      <th>Year</th>\n",
       "      <th>Jan</th>\n",
       "      <th>Feb</th>\n",
       "      <th>Mar</th>\n",
       "      <th>Apr</th>\n",
       "      <th>May</th>\n",
       "      <th>Jun</th>\n",
       "      <th>Jul</th>\n",
       "      <th>Aug</th>\n",
       "      <th>Sep</th>\n",
       "      <th>Oct</th>\n",
       "      <th>Nov</th>\n",
       "      <th>Dec</th>\n",
       "      <th>J-D</th>\n",
       "      <th>D-N</th>\n",
       "      <th>DJF</th>\n",
       "      <th>MAM</th>\n",
       "      <th>JJA</th>\n",
       "      <th>SON</th>\n",
       "    </tr>\n",
       "  </thead>\n",
       "  <tbody>\n",
       "    <tr>\n",
       "      <th>0</th>\n",
       "      <td>1880</td>\n",
       "      <td>-0.29</td>\n",
       "      <td>-0.18</td>\n",
       "      <td>-0.11</td>\n",
       "      <td>-0.19</td>\n",
       "      <td>-0.11</td>\n",
       "      <td>-0.23</td>\n",
       "      <td>-0.21</td>\n",
       "      <td>-0.09</td>\n",
       "      <td>-0.16</td>\n",
       "      <td>-0.23</td>\n",
       "      <td>-0.20</td>\n",
       "      <td>-0.23</td>\n",
       "      <td>-0.19</td>\n",
       "      <td>***</td>\n",
       "      <td>***</td>\n",
       "      <td>-0.14</td>\n",
       "      <td>-0.18</td>\n",
       "      <td>-0.20</td>\n",
       "    </tr>\n",
       "    <tr>\n",
       "      <th>1</th>\n",
       "      <td>1881</td>\n",
       "      <td>-0.15</td>\n",
       "      <td>-0.17</td>\n",
       "      <td>0.04</td>\n",
       "      <td>0.04</td>\n",
       "      <td>0.02</td>\n",
       "      <td>-0.20</td>\n",
       "      <td>-0.06</td>\n",
       "      <td>-0.02</td>\n",
       "      <td>-0.13</td>\n",
       "      <td>-0.20</td>\n",
       "      <td>-0.21</td>\n",
       "      <td>-0.10</td>\n",
       "      <td>-0.10</td>\n",
       "      <td>-.11</td>\n",
       "      <td>-.18</td>\n",
       "      <td>0.03</td>\n",
       "      <td>-0.09</td>\n",
       "      <td>-0.18</td>\n",
       "    </tr>\n",
       "    <tr>\n",
       "      <th>2</th>\n",
       "      <td>1882</td>\n",
       "      <td>0.15</td>\n",
       "      <td>0.15</td>\n",
       "      <td>0.04</td>\n",
       "      <td>-0.18</td>\n",
       "      <td>-0.16</td>\n",
       "      <td>-0.26</td>\n",
       "      <td>-0.20</td>\n",
       "      <td>-0.05</td>\n",
       "      <td>-0.10</td>\n",
       "      <td>-0.24</td>\n",
       "      <td>-0.16</td>\n",
       "      <td>-0.24</td>\n",
       "      <td>-0.10</td>\n",
       "      <td>-.09</td>\n",
       "      <td>.06</td>\n",
       "      <td>-0.10</td>\n",
       "      <td>-0.17</td>\n",
       "      <td>-0.17</td>\n",
       "    </tr>\n",
       "    <tr>\n",
       "      <th>3</th>\n",
       "      <td>1883</td>\n",
       "      <td>-0.31</td>\n",
       "      <td>-0.39</td>\n",
       "      <td>-0.13</td>\n",
       "      <td>-0.17</td>\n",
       "      <td>-0.20</td>\n",
       "      <td>-0.12</td>\n",
       "      <td>-0.08</td>\n",
       "      <td>-0.15</td>\n",
       "      <td>-0.20</td>\n",
       "      <td>-0.14</td>\n",
       "      <td>-0.22</td>\n",
       "      <td>-0.16</td>\n",
       "      <td>-0.19</td>\n",
       "      <td>-.20</td>\n",
       "      <td>-.31</td>\n",
       "      <td>-0.16</td>\n",
       "      <td>-0.12</td>\n",
       "      <td>-0.19</td>\n",
       "    </tr>\n",
       "    <tr>\n",
       "      <th>4</th>\n",
       "      <td>1884</td>\n",
       "      <td>-0.15</td>\n",
       "      <td>-0.08</td>\n",
       "      <td>-0.37</td>\n",
       "      <td>-0.42</td>\n",
       "      <td>-0.36</td>\n",
       "      <td>-0.40</td>\n",
       "      <td>-0.34</td>\n",
       "      <td>-0.26</td>\n",
       "      <td>-0.27</td>\n",
       "      <td>-0.24</td>\n",
       "      <td>-0.30</td>\n",
       "      <td>-0.28</td>\n",
       "      <td>-0.29</td>\n",
       "      <td>-.28</td>\n",
       "      <td>-.13</td>\n",
       "      <td>-0.39</td>\n",
       "      <td>-0.34</td>\n",
       "      <td>-0.27</td>\n",
       "    </tr>\n",
       "  </tbody>\n",
       "</table>\n",
       "</div>"
      ],
      "text/plain": [
       "   Year   Jan   Feb   Mar   Apr   May   Jun   Jul   Aug   Sep   Oct   Nov  \\\n",
       "0  1880 -0.29 -0.18 -0.11 -0.19 -0.11 -0.23 -0.21 -0.09 -0.16 -0.23 -0.20   \n",
       "1  1881 -0.15 -0.17  0.04  0.04  0.02 -0.20 -0.06 -0.02 -0.13 -0.20 -0.21   \n",
       "2  1882  0.15  0.15  0.04 -0.18 -0.16 -0.26 -0.20 -0.05 -0.10 -0.24 -0.16   \n",
       "3  1883 -0.31 -0.39 -0.13 -0.17 -0.20 -0.12 -0.08 -0.15 -0.20 -0.14 -0.22   \n",
       "4  1884 -0.15 -0.08 -0.37 -0.42 -0.36 -0.40 -0.34 -0.26 -0.27 -0.24 -0.30   \n",
       "\n",
       "    Dec   J-D   D-N   DJF   MAM   JJA   SON  \n",
       "0 -0.23 -0.19   ***   *** -0.14 -0.18 -0.20  \n",
       "1 -0.10 -0.10  -.11  -.18  0.03 -0.09 -0.18  \n",
       "2 -0.24 -0.10  -.09   .06 -0.10 -0.17 -0.17  \n",
       "3 -0.16 -0.19  -.20  -.31 -0.16 -0.12 -0.19  \n",
       "4 -0.28 -0.29  -.28  -.13 -0.39 -0.34 -0.27  "
      ]
     },
     "execution_count": 163,
     "metadata": {},
     "output_type": "execute_result"
    }
   ],
   "source": [
    "# importing data\n",
    "df = pd.read_csv('data.csv', skiprows=[0])\n",
    "df.head()"
   ]
  },
  {
   "cell_type": "code",
   "execution_count": 164,
   "id": "06d8f788",
   "metadata": {},
   "outputs": [
    {
     "data": {
      "text/html": [
       "<div>\n",
       "<style scoped>\n",
       "    .dataframe tbody tr th:only-of-type {\n",
       "        vertical-align: middle;\n",
       "    }\n",
       "\n",
       "    .dataframe tbody tr th {\n",
       "        vertical-align: top;\n",
       "    }\n",
       "\n",
       "    .dataframe thead th {\n",
       "        text-align: right;\n",
       "    }\n",
       "</style>\n",
       "<table border=\"1\" class=\"dataframe\">\n",
       "  <thead>\n",
       "    <tr style=\"text-align: right;\">\n",
       "      <th></th>\n",
       "      <th>Year</th>\n",
       "      <th>average_temp</th>\n",
       "    </tr>\n",
       "  </thead>\n",
       "  <tbody>\n",
       "    <tr>\n",
       "      <th>0</th>\n",
       "      <td>1880</td>\n",
       "      <td>-0.185833</td>\n",
       "    </tr>\n",
       "    <tr>\n",
       "      <th>1</th>\n",
       "      <td>1881</td>\n",
       "      <td>-0.095000</td>\n",
       "    </tr>\n",
       "    <tr>\n",
       "      <th>2</th>\n",
       "      <td>1882</td>\n",
       "      <td>-0.104167</td>\n",
       "    </tr>\n",
       "    <tr>\n",
       "      <th>3</th>\n",
       "      <td>1883</td>\n",
       "      <td>-0.189167</td>\n",
       "    </tr>\n",
       "    <tr>\n",
       "      <th>4</th>\n",
       "      <td>1884</td>\n",
       "      <td>-0.289167</td>\n",
       "    </tr>\n",
       "  </tbody>\n",
       "</table>\n",
       "</div>"
      ],
      "text/plain": [
       "   Year  average_temp\n",
       "0  1880     -0.185833\n",
       "1  1881     -0.095000\n",
       "2  1882     -0.104167\n",
       "3  1883     -0.189167\n",
       "4  1884     -0.289167"
      ]
     },
     "execution_count": 164,
     "metadata": {},
     "output_type": "execute_result"
    }
   ],
   "source": [
    "# calculating average temperature by year in separate column\n",
    "df['average_temp'] = df.iloc[:, [1,2,3,4,5,6,7,8,9,10,11,12]].mean(axis=1)\n",
    "# dropping all columns, except for year and average temp\n",
    "df.drop(['Jan', 'Feb', 'Mar', 'Apr', 'May', 'Jun', 'Jul', 'Aug', 'Sep', 'Oct', 'Nov', 'Dec', 'J-D', 'D-N', 'DJF', 'MAM', 'JJA', 'SON'], axis=1, inplace = True)\n",
    "df.head()                             "
   ]
  },
  {
   "cell_type": "code",
   "execution_count": 165,
   "id": "930423fd",
   "metadata": {},
   "outputs": [
    {
     "name": "stdout",
     "output_type": "stream",
     "text": [
      "-0.22804166666666664\n"
     ]
    }
   ],
   "source": [
    "# calculating average t for 19 century\n",
    "average_temp_19_cent = df.loc[df['Year'] < 1900].mean().average_temp\n",
    "print(average_temp_19_cent)"
   ]
  },
  {
   "cell_type": "code",
   "execution_count": 166,
   "id": "0323de2b",
   "metadata": {},
   "outputs": [],
   "source": [
    "# making this average as 0 of our graph\n",
    "df['average_temp'] += -average_temp_19_cent"
   ]
  },
  {
   "cell_type": "code",
   "execution_count": 167,
   "id": "37607705",
   "metadata": {},
   "outputs": [
    {
     "data": {
      "text/html": [
       "\n",
       "<div id=\"altair-viz-91f81aa7eae74488a5f5fb58d4c35f1e\"></div>\n",
       "<script type=\"text/javascript\">\n",
       "  (function(spec, embedOpt){\n",
       "    let outputDiv = document.currentScript.previousElementSibling;\n",
       "    if (outputDiv.id !== \"altair-viz-91f81aa7eae74488a5f5fb58d4c35f1e\") {\n",
       "      outputDiv = document.getElementById(\"altair-viz-91f81aa7eae74488a5f5fb58d4c35f1e\");\n",
       "    }\n",
       "    const paths = {\n",
       "      \"vega\": \"https://cdn.jsdelivr.net/npm//vega@5?noext\",\n",
       "      \"vega-lib\": \"https://cdn.jsdelivr.net/npm//vega-lib?noext\",\n",
       "      \"vega-lite\": \"https://cdn.jsdelivr.net/npm//vega-lite@4.8.1?noext\",\n",
       "      \"vega-embed\": \"https://cdn.jsdelivr.net/npm//vega-embed@6?noext\",\n",
       "    };\n",
       "\n",
       "    function loadScript(lib) {\n",
       "      return new Promise(function(resolve, reject) {\n",
       "        var s = document.createElement('script');\n",
       "        s.src = paths[lib];\n",
       "        s.async = true;\n",
       "        s.onload = () => resolve(paths[lib]);\n",
       "        s.onerror = () => reject(`Error loading script: ${paths[lib]}`);\n",
       "        document.getElementsByTagName(\"head\")[0].appendChild(s);\n",
       "      });\n",
       "    }\n",
       "\n",
       "    function showError(err) {\n",
       "      outputDiv.innerHTML = `<div class=\"error\" style=\"color:red;\">${err}</div>`;\n",
       "      throw err;\n",
       "    }\n",
       "\n",
       "    function displayChart(vegaEmbed) {\n",
       "      vegaEmbed(outputDiv, spec, embedOpt)\n",
       "        .catch(err => showError(`Javascript Error: ${err.message}<br>This usually means there's a typo in your chart specification. See the javascript console for the full traceback.`));\n",
       "    }\n",
       "\n",
       "    if(typeof define === \"function\" && define.amd) {\n",
       "      requirejs.config({paths});\n",
       "      require([\"vega-embed\"], displayChart, err => showError(`Error loading script: ${err.message}`));\n",
       "    } else if (typeof vegaEmbed === \"function\") {\n",
       "      displayChart(vegaEmbed);\n",
       "    } else {\n",
       "      loadScript(\"vega\")\n",
       "        .then(() => loadScript(\"vega-lite\"))\n",
       "        .then(() => loadScript(\"vega-embed\"))\n",
       "        .catch(showError)\n",
       "        .then(() => displayChart(vegaEmbed));\n",
       "    }\n",
       "  })({\"usermeta\": {\"embedOptions\": {\"theme\": \"fivethirtyeight\"}}, \"config\": {\"view\": {\"continuousWidth\": 400, \"continuousHeight\": 300}}, \"layer\": [{\"data\": {\"name\": \"data-d8cb95dad2621d1486243b445dca6858\"}, \"mark\": {\"type\": \"point\", \"color\": \"grey\", \"fill\": \"#f26c08\", \"opacity\": 1, \"size\": 100, \"strokeWidth\": 1}, \"encoding\": {\"x\": {\"type\": \"quantitative\", \"axis\": {\"labelColor\": \"Grey\", \"labelFontSize\": 13, \"tickCount\": 14}, \"field\": \"Year\", \"scale\": {\"zero\": false}, \"title\": \"\"}, \"y\": {\"type\": \"quantitative\", \"axis\": {\"labelColor\": \"Grey\", \"labelFontSize\": 13, \"tickCount\": 9}, \"field\": \"average_temp\", \"scale\": {\"zero\": false}, \"title\": \"\"}}}, {\"data\": {\"name\": \"data-06fd9f850666401b4599de5588b60692\"}, \"mark\": {\"type\": \"rule\", \"text\": \"doffffffdays\"}, \"encoding\": {\"y\": {\"type\": \"quantitative\", \"field\": \"y\"}}}], \"background\": \"#F9F9F9\", \"height\": 500, \"padding\": 25, \"width\": 900, \"$schema\": \"https://vega.github.io/schema/vega-lite/v4.8.1.json\", \"datasets\": {\"data-d8cb95dad2621d1486243b445dca6858\": [{\"Year\": 1880, \"average_temp\": 0.04220833333333332}, {\"Year\": 1881, \"average_temp\": 0.1330416666666666}, {\"Year\": 1882, \"average_temp\": 0.12387499999999997}, {\"Year\": 1883, \"average_temp\": 0.038874999999999965}, {\"Year\": 1884, \"average_temp\": -0.061124999999999985}, {\"Year\": 1885, \"average_temp\": -0.08279166666666665}, {\"Year\": 1886, \"average_temp\": -0.08862500000000006}, {\"Year\": 1887, \"average_temp\": -0.11862499999999998}, {\"Year\": 1888, \"average_temp\": 0.048874999999999946}, {\"Year\": 1889, \"average_temp\": 0.11887499999999997}, {\"Year\": 1890, \"average_temp\": -0.14445833333333336}, {\"Year\": 1891, \"average_temp\": -0.016125}, {\"Year\": 1892, \"average_temp\": -0.03862500000000002}, {\"Year\": 1893, \"average_temp\": -0.09195833333333336}, {\"Year\": 1894, \"average_temp\": -0.08695833333333342}, {\"Year\": 1895, \"average_temp\": 0.003041666666666637}, {\"Year\": 1896, \"average_temp\": 0.11387499999999999}, {\"Year\": 1897, \"average_temp\": 0.11054166666666666}, {\"Year\": 1898, \"average_temp\": -0.04862500000000003}, {\"Year\": 1899, \"average_temp\": 0.044708333333333294}, {\"Year\": 1900, \"average_temp\": 0.13637499999999997}, {\"Year\": 1901, \"average_temp\": 0.07220833333333329}, {\"Year\": 1902, \"average_temp\": -0.0744583333333334}, {\"Year\": 1903, \"average_temp\": -0.16529166666666673}, {\"Year\": 1904, \"average_temp\": -0.2669583333333334}, {\"Year\": 1905, \"average_temp\": -0.061125000000000096}, {\"Year\": 1906, \"average_temp\": 0.000541666666666607}, {\"Year\": 1907, \"average_temp\": -0.16862500000000002}, {\"Year\": 1908, \"average_temp\": -0.2094583333333333}, {\"Year\": 1909, \"average_temp\": -0.2494583333333334}, {\"Year\": 1910, \"average_temp\": -0.21029166666666665}, {\"Year\": 1911, \"average_temp\": -0.20195833333333335}, {\"Year\": 1912, \"average_temp\": -0.12779166666666664}, {\"Year\": 1913, \"average_temp\": -0.12279166666666669}, {\"Year\": 1914, \"average_temp\": 0.07137499999999997}, {\"Year\": 1915, \"average_temp\": 0.10887499999999999}, {\"Year\": 1916, \"average_temp\": -0.09695833333333337}, {\"Year\": 1917, \"average_temp\": -0.2069583333333334}, {\"Year\": 1918, \"average_temp\": -0.051124999999999976}, {\"Year\": 1919, \"average_temp\": -0.03862500000000013}, {\"Year\": 1920, \"average_temp\": -0.026125000000000065}, {\"Year\": 1921, \"average_temp\": 0.0547083333333333}, {\"Year\": 1922, \"average_temp\": -0.04029166666666667}, {\"Year\": 1923, \"average_temp\": -0.013625000000000026}, {\"Year\": 1924, \"average_temp\": -0.023625000000000007}, {\"Year\": 1925, \"average_temp\": 0.020541666666666625}, {\"Year\": 1926, \"average_temp\": 0.13970833333333332}, {\"Year\": 1927, \"average_temp\": 0.023041666666666655}, {\"Year\": 1928, \"average_temp\": 0.03637499999999999}, {\"Year\": 1929, \"average_temp\": -0.11862500000000004}, {\"Year\": 1930, \"average_temp\": 0.08137499999999995}, {\"Year\": 1931, \"average_temp\": 0.12470833333333331}, {\"Year\": 1932, \"average_temp\": 0.058874999999999955}, {\"Year\": 1933, \"average_temp\": -0.06862500000000005}, {\"Year\": 1934, \"average_temp\": 0.0897083333333333}, {\"Year\": 1935, \"average_temp\": 0.020541666666666625}, {\"Year\": 1936, \"average_temp\": 0.06970833333333329}, {\"Year\": 1937, \"average_temp\": 0.19054166666666664}, {\"Year\": 1938, \"average_temp\": 0.19554166666666664}, {\"Year\": 1939, \"average_temp\": 0.19887499999999997}, {\"Year\": 1940, \"average_temp\": 0.341375}, {\"Year\": 1941, \"average_temp\": 0.408875}, {\"Year\": 1942, \"average_temp\": 0.28054166666666663}, {\"Year\": 1943, \"average_temp\": 0.30054166666666665}, {\"Year\": 1944, \"average_temp\": 0.43387499999999996}, {\"Year\": 1945, \"average_temp\": 0.31304166666666666}, {\"Year\": 1946, \"average_temp\": 0.156375}, {\"Year\": 1947, \"average_temp\": 0.18637499999999999}, {\"Year\": 1948, \"average_temp\": 0.11887499999999997}, {\"Year\": 1949, \"average_temp\": 0.1172083333333333}, {\"Year\": 1950, \"average_temp\": 0.042208333333333264}, {\"Year\": 1951, \"average_temp\": 0.1622083333333333}, {\"Year\": 1952, \"average_temp\": 0.23637499999999997}, {\"Year\": 1953, \"average_temp\": 0.2972083333333333}, {\"Year\": 1954, \"average_temp\": 0.08137499999999998}, {\"Year\": 1955, \"average_temp\": 0.0847083333333333}, {\"Year\": 1956, \"average_temp\": 0.023875000000000007}, {\"Year\": 1957, \"average_temp\": 0.27220833333333333}, {\"Year\": 1958, \"average_temp\": 0.2972083333333333}, {\"Year\": 1959, \"average_temp\": 0.2547083333333333}, {\"Year\": 1960, \"average_temp\": 0.2072083333333333}, {\"Year\": 1961, \"average_temp\": 0.283875}, {\"Year\": 1962, \"average_temp\": 0.2672083333333333}, {\"Year\": 1963, \"average_temp\": 0.29804166666666665}, {\"Year\": 1964, \"average_temp\": 0.031374999999999986}, {\"Year\": 1965, \"average_temp\": 0.12304166666666662}, {\"Year\": 1966, \"average_temp\": 0.18054166666666663}, {\"Year\": 1967, \"average_temp\": 0.20637499999999998}, {\"Year\": 1968, \"average_temp\": 0.15304166666666663}, {\"Year\": 1969, \"average_temp\": 0.2972083333333333}, {\"Year\": 1970, \"average_temp\": 0.2597083333333333}, {\"Year\": 1971, \"average_temp\": 0.13720833333333332}, {\"Year\": 1972, \"average_temp\": 0.24137499999999998}, {\"Year\": 1973, \"average_temp\": 0.3880416666666666}, {\"Year\": 1974, \"average_temp\": 0.14470833333333333}, {\"Year\": 1975, \"average_temp\": 0.21304166666666663}, {\"Year\": 1976, \"average_temp\": 0.1197083333333333}, {\"Year\": 1977, \"average_temp\": 0.3972083333333333}, {\"Year\": 1978, \"average_temp\": 0.29054166666666664}, {\"Year\": 1979, \"average_temp\": 0.38637499999999997}, {\"Year\": 1980, \"average_temp\": 0.49887499999999996}, {\"Year\": 1981, \"average_temp\": 0.556375}, {\"Year\": 1982, \"average_temp\": 0.36054166666666665}, {\"Year\": 1983, \"average_temp\": 0.5405416666666667}, {\"Year\": 1984, \"average_temp\": 0.38887499999999997}, {\"Year\": 1985, \"average_temp\": 0.34804166666666664}, {\"Year\": 1986, \"average_temp\": 0.408875}, {\"Year\": 1987, \"average_temp\": 0.558875}, {\"Year\": 1988, \"average_temp\": 0.6347083333333333}, {\"Year\": 1989, \"average_temp\": 0.5172083333333333}, {\"Year\": 1990, \"average_temp\": 0.6647083333333333}, {\"Year\": 1991, \"average_temp\": 0.6372083333333334}, {\"Year\": 1992, \"average_temp\": 0.44637499999999997}, {\"Year\": 1993, \"average_temp\": 0.46554166666666663}, {\"Year\": 1994, \"average_temp\": 0.5372083333333333}, {\"Year\": 1995, \"average_temp\": 0.6722083333333333}, {\"Year\": 1996, \"average_temp\": 0.5630416666666667}, {\"Year\": 1997, \"average_temp\": 0.696375}, {\"Year\": 1998, \"average_temp\": 0.8497083333333333}, {\"Year\": 1999, \"average_temp\": 0.6255416666666667}, {\"Year\": 2000, \"average_temp\": 0.6305416666666667}, {\"Year\": 2001, \"average_temp\": 0.7638749999999999}, {\"Year\": 2002, \"average_temp\": 0.8522083333333332}, {\"Year\": 2003, \"average_temp\": 0.8372083333333333}, {\"Year\": 2004, \"average_temp\": 0.7622083333333334}, {\"Year\": 2005, \"average_temp\": 0.8997083333333333}, {\"Year\": 2006, \"average_temp\": 0.8447083333333334}, {\"Year\": 2007, \"average_temp\": 0.8663749999999999}, {\"Year\": 2008, \"average_temp\": 0.7438750000000001}, {\"Year\": 2009, \"average_temp\": 0.8630416666666665}, {\"Year\": 2010, \"average_temp\": 0.9272083333333334}, {\"Year\": 2011, \"average_temp\": 0.808875}, {\"Year\": 2012, \"average_temp\": 0.8430416666666665}, {\"Year\": 2013, \"average_temp\": 0.8688750000000001}, {\"Year\": 2014, \"average_temp\": 0.9597083333333332}, {\"Year\": 2015, \"average_temp\": 1.091375}, {\"Year\": 2016, \"average_temp\": 1.213875}, {\"Year\": 2017, \"average_temp\": 1.1247083333333332}], \"data-06fd9f850666401b4599de5588b60692\": [{\"y\": 0}]}}, {\"mode\": \"vega-lite\"});\n",
       "</script>"
      ],
      "text/plain": [
       "alt.LayerChart(...)"
      ]
     },
     "execution_count": 167,
     "metadata": {},
     "output_type": "execute_result"
    }
   ],
   "source": [
    "main_chart = alt.Chart(df).mark_point(color = 'grey', \n",
    "                         fill = '#f26c08', \n",
    "                         size = 100, \n",
    "                         opacity = 1,\n",
    "                         strokeWidth = 1).encode(\n",
    "    x = alt.X(field='Year',\n",
    "              type='quantitative',\n",
    "              title = '',\n",
    "              axis = alt.Axis(tickCount = 14, labelColor=\"Grey\", labelFontSize=13),\n",
    "              scale=alt.Scale(zero=False)),\n",
    "    y = alt.Y(field='average_temp',\n",
    "              type='quantitative',\n",
    "              title = '',\n",
    "              axis = alt.Axis(tickCount = 9, labelColor=\"Grey\", labelFontSize=13),\n",
    "              scale=alt.Scale(zero=False)),\n",
    ")\n",
    "\n",
    "# horisontal line\n",
    "rule = alt.Chart(pd.DataFrame({'y': [0]})).mark_rule(text='doffffffdays').encode(y='y')\n",
    "\n",
    "(main_chart + rule).properties(width = 900, height = 500, background = '#F9F9F9', padding = 25)"
   ]
  },
  {
   "cell_type": "markdown",
   "id": "f0c2993a",
   "metadata": {},
   "source": [
    "Actual result:\n",
    "![alt](actual.png \"Image\")"
   ]
  },
  {
   "cell_type": "code",
   "execution_count": null,
   "id": "6a7435a0",
   "metadata": {},
   "outputs": [],
   "source": []
  }
 ],
 "metadata": {
  "kernelspec": {
   "display_name": "Python 3 (ipykernel)",
   "language": "python",
   "name": "python3"
  },
  "language_info": {
   "codemirror_mode": {
    "name": "ipython",
    "version": 3
   },
   "file_extension": ".py",
   "mimetype": "text/x-python",
   "name": "python",
   "nbconvert_exporter": "python",
   "pygments_lexer": "ipython3",
   "version": "3.8.2"
  }
 },
 "nbformat": 4,
 "nbformat_minor": 5
}
